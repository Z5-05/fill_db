{
 "cells": [
  {
   "cell_type": "code",
   "execution_count": 28,
   "metadata": {
    "collapsed": true,
    "pycharm": {
     "name": "#%%\n"
    }
   },
   "outputs": [],
   "source": [
    "import pandas as pd"
   ]
  },
  {
   "cell_type": "code",
   "execution_count": 29,
   "outputs": [],
   "source": [
    "df = pd.read_csv('files/db_map_article_venue.csv')"
   ],
   "metadata": {
    "collapsed": false,
    "pycharm": {
     "name": "#%%\n"
    }
   }
  },
  {
   "cell_type": "code",
   "execution_count": 30,
   "outputs": [
    {
     "data": {
      "text/plain": "                 id_article                  id_venue\n0  53e99784b7602d9701f3e133  53a7297d20f7420be8bd4ae7\n1  53e99784b7602d9701f3e151  53a72a4920f7420be8bfa51b\n2  53e99784b7602d9701f3e15d  53a72e2020f7420be8c80142\n3  53e99784b7602d9701f3e161  5390a74a20f70186a0e8b40b\n4  53e99784b7602d9701f3e162  5736ae3ad39c4f40a7976010",
      "text/html": "<div>\n<style scoped>\n    .dataframe tbody tr th:only-of-type {\n        vertical-align: middle;\n    }\n\n    .dataframe tbody tr th {\n        vertical-align: top;\n    }\n\n    .dataframe thead th {\n        text-align: right;\n    }\n</style>\n<table border=\"1\" class=\"dataframe\">\n  <thead>\n    <tr style=\"text-align: right;\">\n      <th></th>\n      <th>id_article</th>\n      <th>id_venue</th>\n    </tr>\n  </thead>\n  <tbody>\n    <tr>\n      <th>0</th>\n      <td>53e99784b7602d9701f3e133</td>\n      <td>53a7297d20f7420be8bd4ae7</td>\n    </tr>\n    <tr>\n      <th>1</th>\n      <td>53e99784b7602d9701f3e151</td>\n      <td>53a72a4920f7420be8bfa51b</td>\n    </tr>\n    <tr>\n      <th>2</th>\n      <td>53e99784b7602d9701f3e15d</td>\n      <td>53a72e2020f7420be8c80142</td>\n    </tr>\n    <tr>\n      <th>3</th>\n      <td>53e99784b7602d9701f3e161</td>\n      <td>5390a74a20f70186a0e8b40b</td>\n    </tr>\n    <tr>\n      <th>4</th>\n      <td>53e99784b7602d9701f3e162</td>\n      <td>5736ae3ad39c4f40a7976010</td>\n    </tr>\n  </tbody>\n</table>\n</div>"
     },
     "execution_count": 30,
     "metadata": {},
     "output_type": "execute_result"
    }
   ],
   "source": [
    "df.head()"
   ],
   "metadata": {
    "collapsed": false,
    "pycharm": {
     "name": "#%%\n"
    }
   }
  },
  {
   "cell_type": "code",
   "execution_count": 31,
   "outputs": [],
   "source": [
    "df.to_csv('files/db_map_article_venue.csv')"
   ],
   "metadata": {
    "collapsed": false,
    "pycharm": {
     "name": "#%%\n"
    }
   }
  },
  {
   "cell_type": "code",
   "execution_count": null,
   "outputs": [],
   "source": [],
   "metadata": {
    "collapsed": false,
    "pycharm": {
     "name": "#%%\n"
    }
   }
  }
 ],
 "metadata": {
  "kernelspec": {
   "display_name": "Python 3",
   "language": "python",
   "name": "python3"
  },
  "language_info": {
   "codemirror_mode": {
    "name": "ipython",
    "version": 2
   },
   "file_extension": ".py",
   "mimetype": "text/x-python",
   "name": "python",
   "nbconvert_exporter": "python",
   "pygments_lexer": "ipython2",
   "version": "2.7.6"
  }
 },
 "nbformat": 4,
 "nbformat_minor": 0
}